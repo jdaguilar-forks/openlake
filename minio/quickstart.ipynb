{
 "cells": [
  {
   "cell_type": "markdown",
   "metadata": {},
   "source": [
    "# Quickstart: MinIO for Kubernetes\n",
    "\n",
    "This procedure deploys a Single-Node Single-Drive MinIO server onto Kubernetes for early development and evaluation of MinIO Object Storage and its S3-compatible API layer.\n",
    "\n",
    "Use the MinIO Operator to deploy and manage production-ready MinIO tenants on Kubernetes.\n",
    "\n",
    "# Prerequisites\n",
    "\n",
    "An existing Kubernetes deployment where at least one Worker Node has a locally-attached drive.\n",
    "\n",
    "A local kubectl installation configured to create and access resources on the target Kubernetes deployment.\n",
    "\n",
    "Familiarity with Kubernetes environments\n",
    "\n",
    "Familiarity with using a Terminal or Shell environment\n",
    "\n",
    "# Procedure\n",
    "\n"
   ]
  },
  {
   "cell_type": "markdown",
   "metadata": {},
   "source": [
    "\n",
    "## 1. Download the MinIO Object\n",
    "\n",
    "Download the MinIO Kubernetes Object Definition"
   ]
  },
  {
   "cell_type": "code",
   "execution_count": 28,
   "metadata": {},
   "outputs": [
    {
     "name": "stdout",
     "output_type": "stream",
     "text": [
      "  % Total    % Received % Xferd  Average Speed   Time    Time     Time  Current\n",
      "                                 Dload  Upload   Total   Spent    Left  Speed\n",
      "100  1495  100  1495    0     0   2627      0 --:--:-- --:--:-- --:--:--  2632\n"
     ]
    }
   ],
   "source": [
    "\n",
    "!curl https://raw.githubusercontent.com/minio/docs/master/source/extra/examples/minio-dev.yaml -O\n"
   ]
  },
  {
   "cell_type": "markdown",
   "metadata": {},
   "source": [
    "\n",
    "The file describes two Kubernetes resources:\n",
    "\n",
    "- A new namespace minio-dev, and\n",
    "\n",
    "- A MinIO pod using a drive or volume on the Worker Node for serving data"
   ]
  },
  {
   "cell_type": "markdown",
   "metadata": {},
   "source": [
    "## Apply the MinIO Object Definition\n",
    "\n",
    "The following command applies the minio-dev.yaml configuration and deploys the objects to Kubernetes:"
   ]
  },
  {
   "cell_type": "code",
   "execution_count": 30,
   "metadata": {},
   "outputs": [
    {
     "name": "stdout",
     "output_type": "stream",
     "text": [
      "namespace/minio-dev created\n",
      "pod/minio created\n"
     ]
    }
   ],
   "source": [
    "!kubectl apply -f minio-dev.yaml\n"
   ]
  },
  {
   "cell_type": "markdown",
   "metadata": {},
   "source": [
    "\n",
    "The command output should resemble the following:\n",
    "\n",
    "```bash\n",
    "namespace/minio-dev created\n",
    "pod/minio created\n",
    "```\n",
    "\n",
    "You can verify the state of the pod by running `kubectl get pods`:"
   ]
  },
  {
   "cell_type": "code",
   "execution_count": 35,
   "metadata": {},
   "outputs": [
    {
     "name": "stdout",
     "output_type": "stream",
     "text": [
      "NAME    READY   STATUS    RESTARTS   AGE\n",
      "minio   1/1     Running   0          118s\n"
     ]
    }
   ],
   "source": [
    "!kubectl get pods -n minio-dev"
   ]
  },
  {
   "cell_type": "markdown",
   "metadata": {},
   "source": [
    "The output should resemble the following:\n",
    "\n",
    "```bash\n",
    "NAME    READY   STATUS    RESTARTS   AGE\n",
    "minio   1/1     Running   0          77s\n",
    "```\n",
    "\n",
    "You can also use the following commands to retrieve detailed information on the pod status:"
   ]
  },
  {
   "cell_type": "code",
   "execution_count": 2,
   "metadata": {},
   "outputs": [
    {
     "name": "stdout",
     "output_type": "stream",
     "text": [
      "Name:             minio\n",
      "Namespace:        minio-dev\n",
      "Priority:         0\n",
      "Service Account:  default\n",
      "Node:             minikube/192.168.49.2\n",
      "Start Time:       Thu, 15 Feb 2024 10:34:16 -0500\n",
      "Labels:           app=minio\n",
      "Annotations:      <none>\n",
      "Status:           Running\n",
      "IP:               10.244.0.23\n",
      "IPs:\n",
      "  IP:  10.244.0.23\n",
      "Containers:\n",
      "  minio:\n",
      "    Container ID:  docker://a0d220dbed73b665254e44fb0a20571a94d89912dda3d85300f4e00f18834f0a\n",
      "    Image:         quay.io/minio/minio:latest\n",
      "    Image ID:      docker-pullable://quay.io/minio/minio@sha256:b4426663e5b4cd9648debdb2ad9ff512ec1fedaa0ca3d892512606203fb05550\n",
      "    Port:          <none>\n",
      "    Host Port:     <none>\n",
      "    Command:\n",
      "      /bin/bash\n",
      "      -c\n",
      "    Args:\n",
      "      minio server /data --console-address :9090\n",
      "    State:          Running\n",
      "      Started:      Tue, 27 Feb 2024 18:37:58 -0500\n",
      "    Last State:     Terminated\n",
      "      Reason:       Completed\n",
      "      Exit Code:    0\n",
      "      Started:      Thu, 15 Feb 2024 19:37:29 -0500\n",
      "      Finished:     Thu, 15 Feb 2024 19:40:59 -0500\n",
      "    Ready:          True\n",
      "    Restart Count:  2\n",
      "    Environment:    <none>\n",
      "    Mounts:\n",
      "      /data from localvolume (rw)\n",
      "      /var/run/secrets/kubernetes.io/serviceaccount from kube-api-access-lcbrq (ro)\n",
      "Conditions:\n",
      "  Type              Status\n",
      "  Initialized       True \n",
      "  Ready             True \n",
      "  ContainersReady   True \n",
      "  PodScheduled      True \n",
      "Volumes:\n",
      "  localvolume:\n",
      "    Type:          HostPath (bare host directory volume)\n",
      "    Path:          /mnt/disk1/data\n",
      "    HostPathType:  DirectoryOrCreate\n",
      "  kube-api-access-lcbrq:\n",
      "    Type:                    Projected (a volume that contains injected data from multiple sources)\n",
      "    TokenExpirationSeconds:  3607\n",
      "    ConfigMapName:           kube-root-ca.crt\n",
      "    ConfigMapOptional:       <nil>\n",
      "    DownwardAPI:             true\n",
      "QoS Class:                   BestEffort\n",
      "Node-Selectors:              kubernetes.io/hostname=minikube\n",
      "Tolerations:                 node.kubernetes.io/not-ready:NoExecute op=Exists for 300s\n",
      "                             node.kubernetes.io/unreachable:NoExecute op=Exists for 300s\n",
      "Events:\n",
      "  Type    Reason          Age   From     Message\n",
      "  ----    ------          ----  ----     -------\n",
      "  Normal  SandboxChanged  12d   kubelet  Pod sandbox changed, it will be killed and re-created.\n",
      "  Normal  Pulling         12d   kubelet  Pulling image \"quay.io/minio/minio:latest\"\n",
      "  Normal  Pulled          12d   kubelet  Successfully pulled image \"quay.io/minio/minio:latest\" in 1.841s (1.841s including waiting)\n",
      "  Normal  Created         12d   kubelet  Created container minio\n",
      "  Normal  Started         12d   kubelet  Started container minio\n",
      "  Normal  SandboxChanged  118m  kubelet  Pod sandbox changed, it will be killed and re-created.\n",
      "  Normal  Pulling         118m  kubelet  Pulling image \"quay.io/minio/minio:latest\"\n",
      "  Normal  Pulled          118m  kubelet  Successfully pulled image \"quay.io/minio/minio:latest\" in 5.174s (5.174s including waiting)\n",
      "  Normal  Created         118m  kubelet  Created container minio\n",
      "  Normal  Started         118m  kubelet  Started container minio\n",
      "WARNING: Detected default credentials 'minioadmin:minioadmin', we recommend that you change these values with 'MINIO_ROOT_USER' and 'MINIO_ROOT_PASSWORD' environment variables\n",
      "MinIO Object Storage Server\n",
      "Copyright: 2015-2024 MinIO, Inc.\n",
      "License: GNU AGPLv3 <https://www.gnu.org/licenses/agpl-3.0.html>\n",
      "Version: RELEASE.2024-02-26T09-33-48Z (go1.21.7 linux/amd64)\n",
      "\n",
      "Status:         1 Online, 0 Offline. \n",
      "S3-API: http://10.244.0.23:9000  http://127.0.0.1:9000 \n",
      "Console: http://10.244.0.23:9090 http://127.0.0.1:9090 \n",
      "\n",
      "Documentation: https://min.io/docs/minio/linux/index.html\n",
      "Warning: The standard parity is set to 0. This can lead to data loss.\n"
     ]
    }
   ],
   "source": [
    "!kubectl describe pod/minio -n minio-dev\n",
    "!kubectl logs pod/minio -n minio-dev"
   ]
  },
  {
   "cell_type": "markdown",
   "metadata": {},
   "source": [
    "## 3.Temporarily Access the MinIO S3 API and Console\n",
    "\n",
    "Use the `kubectl port-forward` command to temporarily forward traffic from the MinIO pod to the local machine:\n"
   ]
  },
  {
   "cell_type": "code",
   "execution_count": 1,
   "metadata": {},
   "outputs": [
    {
     "name": "stdout",
     "output_type": "stream",
     "text": [
      "Unable to listen on port 9000: Listeners failed to create with the following errors: [unable to create listener: Error listen tcp4 127.0.0.1:9000: bind: address already in use unable to create listener: Error listen tcp6 [::1]:9000: bind: address already in use]\n",
      "Unable to listen on port 9090: Listeners failed to create with the following errors: [unable to create listener: Error listen tcp4 127.0.0.1:9090: bind: address already in use unable to create listener: Error listen tcp6 [::1]:9090: bind: address already in use]\n",
      "error: unable to listen on any of the requested ports: [{9000 9000} {9090 9090}]\n"
     ]
    }
   ],
   "source": [
    "!kubectl port-forward pod/minio 9000 9090 -n minio-dev"
   ]
  },
  {
   "cell_type": "markdown",
   "metadata": {},
   "source": [
    "The command forwards the pod ports `9000` and `9090` to the matching port on the local machine while active in the shell. The `kubectl port-forward` command only functions while active in the shell session. Terminating the session closes the ports on the local machine."
   ]
  },
  {
   "cell_type": "markdown",
   "metadata": {},
   "source": [
    "## 4. Connect your Browser to the MinIO Server\n",
    "\n",
    "Access the MinIO Console by opening a browser on the local machine and navigating to http://127.0.0.1:9090.\n",
    "\n",
    "Log in to the Console with the credentials `minioadmin | minioadmin`. These are the default root user credentials."
   ]
  },
  {
   "cell_type": "markdown",
   "metadata": {},
   "source": [
    "\n",
    "\n",
    "\n",
    "\n",
    "## (Optional) Connect the MinIO Client\n",
    "\n",
    "If your local machine has mc installed, use the mc alias set command to authenticate and connect to the MinIO deployment:\n",
    "\n",
    "```bash\n",
    "mc alias set k8s-minio-dev http://127.0.0.1:9000 minioadmin minioadmin\n",
    "mc admin info k8s-minio-dev\n",
    "```\n",
    "\n",
    "- The name of the alias\n",
    "\n",
    "- The hostname or IP address and port of the MinIO server\n",
    "\n",
    "- The Access Key for a MinIO user\n",
    "\n",
    "- The Secret Key for a MinIO user\n"
   ]
  }
 ],
 "metadata": {
  "kernelspec": {
   "display_name": "Python 3",
   "language": "python",
   "name": "python3"
  },
  "language_info": {
   "codemirror_mode": {
    "name": "ipython",
    "version": 3
   },
   "file_extension": ".py",
   "mimetype": "text/x-python",
   "name": "python",
   "nbconvert_exporter": "python",
   "pygments_lexer": "ipython3",
   "version": "3.10.12"
  }
 },
 "nbformat": 4,
 "nbformat_minor": 2
}
